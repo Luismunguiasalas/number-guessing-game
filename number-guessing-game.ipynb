{
 "metadata": {
  "language_info": {
   "codemirror_mode": {
    "name": "ipython",
    "version": 3
   },
   "file_extension": ".py",
   "mimetype": "text/x-python",
   "name": "python",
   "nbconvert_exporter": "python",
   "pygments_lexer": "ipython3",
   "version": "3.8.5-final"
  },
  "orig_nbformat": 2,
  "kernelspec": {
   "name": "python3",
   "display_name": "Python 3",
   "language": "python"
  }
 },
 "nbformat": 4,
 "nbformat_minor": 2,
 "cells": [
  {
   "cell_type": "code",
   "execution_count": null,
   "metadata": {},
   "outputs": [],
   "source": [
    "import random\n",
    "\n",
    "range_begin = int(input(\"enter (number) a start range\"))\n",
    "range_end = int(input(\"enter (number) an end range\"))\n",
    "random_number = random.randint(range_begin,range_end)\n",
    "\n",
    "def keep_guessing(random_number):\n",
    "    guess = int(input(\"Alright! guess the number\"))\n",
    "    if guess == random_number:\n",
    "        return \"Impresive! You guessed it on your first try\"\n",
    "    prev = 0\n",
    "    while guess != random_number:\n",
    "        print(\"Not quite, try again\")\n",
    "        if guess < random_number and guess > prev:\n",
    "            prev = guess\n",
    "            print(\"You're getting hot\")\n",
    "        if guess > random_number:\n",
    "            print(\"You're getting colder\")\n",
    "            prev = guess\n",
    "        if prev > guess and guess < random_number:\n",
    "            print(\"you're getting warm\")\n",
    "        guess =input(\"guess the number, or enter 'end' to stop game\")\n",
    "        if guess == 'end':\n",
    "            break\n",
    "        guess = int(guess)\n",
    "        if guess == random_number:\n",
    "            return \"You've got it!\"\n",
    "    return \"you looooooose\"\n",
    "\n",
    "keep_guessing(random_number)"
   ]
  }
 ]
}